{
 "cells": [
  {
   "cell_type": "code",
   "source": [
    "import torch\n",
    "import torch.nn as nn\n",
    "import numpy as np"
   ],
   "metadata": {
    "collapsed": false,
    "pycharm": {
     "name": "#%%\n"
    }
   },
   "execution_count": null,
   "outputs": []
  },
  {
   "cell_type": "code",
   "execution_count": null,
   "metadata": {
    "collapsed": true
   },
   "outputs": [],
   "source": [
    "class LSTM(torch.nn.Module):\n",
    "    \"\"\"\n",
    "    LSTM Seq classification model\n",
    "    \"\"\"\n",
    "    def __init__(self, vocab_size, num_classes, word_embedding_size, hidden_layer_size, num_hidden):\n",
    "        \"\"\"\n",
    "        # Paramters\n",
    "          vocab_size: int\n",
    "              size of the vocabulary.\n",
    "        \"\"\"\n",
    "        super(LSTM, self).__init__()\n",
    "\n",
    "        self.embedding = nn.Embedding(vocab_size, word_embedding_size, padding_idx=0)\n",
    "        # self.embedding.weight = nn.Parameter(embedding_matrix)\n",
    "        self.lstm = nn.LSTM(word_embedding_size, hidden_layer_size, batch_first=True, num_layers= num_hidden, bidirectional=True, dropout = )\n",
    "        self.attention_feed_forward = nn.Linear(hidden_layer_size * 2, 1)\n",
    "        self.softmax = nn.Softmax(dim=1)\n",
    "        self.out_linear = nn.Linear(hidden_layer_size * 2, num_classes)\n",
    "\n",
    "\n",
    "\n",
    "\n",
    "\n",
    "\n",
    "    def init_embedding_weights(self):\n",
    "        pass\n",
    "    def forward(self, input_ids, labels, lengths, masks):\n",
    "        \"\"\"\n",
    "        # Parameters\n",
    "        input_ids:\n",
    "            matrix of size (batch_size, feature_length). Each row in data represents a sequence of token ids coming from tokenzied input text and vocabulary.\n",
    "        label: matrix of size (batch_size,).\n",
    "            Ground truth labels.\n",
    "        lengths: matrix of size (batch_size, 1).\n",
    "            Token length of input text. Help you to compute average word embedding\n",
    "        mask: matrix of size (batch_size, feature_length).\n",
    "            Input mask that tells you whether the token is pad or not. If not masks = 1, else = 0. This helps you to compute attention weights\n",
    "        # Returns\n",
    "        loss: tensor\n",
    "            loss should be a scalar averaged accross batches\n",
    "        predicted_labels : model predictions.\n",
    "            Should be either 0 or 1 based on a threshold (usually 0.5).\n",
    "        \"\"\"\n",
    "        #################################################################\n",
    "        ## TODO: compute loss and predicted_labels based on model output#\n",
    "        #################################################################\n",
    "        embeddings = self.embedding(input_ids)\n",
    "        attentionless_lstm, hidden = self.lstm(embeddings)\n",
    "        lengths = torch.squeeze(lengths)\n",
    "        lengths = lengths - 1\n",
    "\n",
    "        final_hidden_layers = attentionless_lstm[torch.arange(attentionless_lstm.size(0)), lengths]\n",
    "        lineared = self.linear(final_hidden_layers)\n",
    "        z_out = self.sigmoid(lineared)\n",
    "        loss = torch.nn.functional.binary_cross_entropy(z_out, labels)\n",
    "\n",
    "\n",
    "\n",
    "        return loss, z_out, []\n",
    "        # HINT: you can use lengths to retrieve the hidden state corresponding to the last word\n",
    "        # you may find this link helpful: https://discuss.pytorch.org/t/selecting-element-on-dimension-from-list-of-indexes/36319\n",
    "\n",
    "        # return loss, predicted_labels, [] # use empty list to keep number of return tensors consistant with lstm attention\n",
    "\n",
    "\n"
   ]
  }
 ],
 "metadata": {
  "kernelspec": {
   "display_name": "Python 3",
   "language": "python",
   "name": "python3"
  },
  "language_info": {
   "codemirror_mode": {
    "name": "ipython",
    "version": 2
   },
   "file_extension": ".py",
   "mimetype": "text/x-python",
   "name": "python",
   "nbconvert_exporter": "python",
   "pygments_lexer": "ipython2",
   "version": "2.7.6"
  }
 },
 "nbformat": 4,
 "nbformat_minor": 0
}